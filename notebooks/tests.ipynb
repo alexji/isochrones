{
 "cells": [
  {
   "cell_type": "code",
   "execution_count": 1,
   "metadata": {
    "collapsed": true
   },
   "outputs": [],
   "source": [
    "from isochrones.query import Query, TwoMASS, WISE, Tycho2"
   ]
  },
  {
   "cell_type": "code",
   "execution_count": 2,
   "metadata": {
    "collapsed": true
   },
   "outputs": [],
   "source": [
    "ra=45.03433035439128; dec=0.23539164875137225;\n",
    "pmra=43.75231341609215; pmdec=-7.6419899883511482;\n",
    "epoch=2015."
   ]
  },
  {
   "cell_type": "code",
   "execution_count": 3,
   "metadata": {
    "collapsed": true
   },
   "outputs": [],
   "source": [
    "q = Query(ra, dec, pmra=pmra, pmdec=pmdec, epoch=epoch)"
   ]
  },
  {
   "cell_type": "code",
   "execution_count": 4,
   "metadata": {
    "collapsed": true
   },
   "outputs": [],
   "source": [
    "tm = TwoMASS(q)\n",
    "w = WISE(q)\n",
    "tyc = Tycho2(q)"
   ]
  },
  {
   "cell_type": "code",
   "execution_count": 5,
   "metadata": {},
   "outputs": [
    {
     "data": {
      "text/plain": [
       "b'03000819+0014074'"
      ]
     },
     "execution_count": 5,
     "metadata": {},
     "output_type": "execute_result"
    }
   ],
   "source": [
    "tm.get_id()"
   ]
  },
  {
   "cell_type": "code",
   "execution_count": 6,
   "metadata": {
    "collapsed": true
   },
   "outputs": [],
   "source": [
    "from astroquery.vizier import Vizier\n"
   ]
  },
  {
   "cell_type": "code",
   "execution_count": 20,
   "metadata": {
    "collapsed": true
   },
   "outputs": [],
   "source": [
    "from astropy.coordinates import SkyCoord\n",
    "import astropy.units as u\n",
    "c = SkyCoord(ra, dec, unit='deg')\n",
    "table = Vizier(columns=['*', '_r', '_RAJ2000', '_DEJ2000']).query_region(c, \n",
    "                        catalog='2mass', radius=1*u.arcsec)[0]"
   ]
  },
  {
   "cell_type": "code",
   "execution_count": 18,
   "metadata": {},
   "outputs": [
    {
     "data": {
      "text/html": [
       "&lt;Table masked=True length=1&gt;\n",
       "<table id=\"table4644405992\" class=\"table-striped table-bordered table-condensed\">\n",
       "<thead><tr><th>_r</th><th>_RAJ2000</th><th>_DEJ2000</th><th>RAJ2000</th><th>DEJ2000</th><th>_2MASS</th><th>Jmag</th><th>e_Jmag</th><th>Hmag</th><th>e_Hmag</th><th>Kmag</th><th>e_Kmag</th><th>Qflg</th><th>Rflg</th><th>Bflg</th><th>Cflg</th><th>Xflg</th><th>Aflg</th></tr></thead>\n",
       "<thead><tr><th>arcs</th><th>deg</th><th>deg</th><th>deg</th><th>deg</th><th></th><th>mag</th><th>mag</th><th>mag</th><th>mag</th><th>mag</th><th>mag</th><th></th><th></th><th></th><th></th><th></th><th></th></tr></thead>\n",
       "<thead><tr><th>float64</th><th>float64</th><th>float64</th><th>float64</th><th>float64</th><th>bytes17</th><th>float32</th><th>float32</th><th>float32</th><th>float32</th><th>float32</th><th>float32</th><th>bytes3</th><th>bytes3</th><th>bytes3</th><th>bytes3</th><th>uint8</th><th>uint8</th></tr></thead>\n",
       "<tr><td>0.636</td><td>45.034161</td><td>0.235408</td><td>45.034161</td><td>0.235408</td><td>03000819+0014074</td><td>6.606</td><td>0.023</td><td>6.133</td><td>0.024</td><td>6.019</td><td>0.020</td><td>AAA</td><td>111</td><td>111</td><td>000</td><td>0</td><td>0</td></tr>\n",
       "</table>"
      ],
      "text/plain": [
       "<Table masked=True length=1>\n",
       "   _r    _RAJ2000   _DEJ2000   RAJ2000   ...  Bflg   Cflg   Xflg  Aflg\n",
       "  arcs     deg        deg        deg     ...                          \n",
       "float64  float64    float64    float64   ... bytes3 bytes3 uint8 uint8\n",
       "------- ---------- ---------- ---------- ... ------ ------ ----- -----\n",
       "  0.636  45.034161   0.235408  45.034161 ...    111    000     0     0"
      ]
     },
     "execution_count": 18,
     "metadata": {},
     "output_type": "execute_result"
    }
   ],
   "source": [
    "table"
   ]
  },
  {
   "cell_type": "code",
   "execution_count": 1,
   "metadata": {
    "collapsed": true
   },
   "outputs": [],
   "source": [
    "from isochrones.tests.test_query import test_queries"
   ]
  },
  {
   "cell_type": "code",
   "execution_count": 2,
   "metadata": {
    "collapsed": true
   },
   "outputs": [],
   "source": [
    "test_queries()"
   ]
  },
  {
   "cell_type": "code",
   "execution_count": 1,
   "metadata": {},
   "outputs": [
    {
     "name": "stderr",
     "output_type": "stream",
     "text": [
      "WARNING:root:You have a wrong/corrupted/outdated Dartmouth triangulation! Delete /Users/tdm/.isochrones/dartmouth.tri and try re-importing to download afresh.\n"
     ]
    }
   ],
   "source": [
    "from isochrones import StarModel\n",
    "from isochrones.dartmouth import Dartmouth_Isochrone\n",
    "dar = Dartmouth_Isochrone()"
   ]
  },
  {
   "cell_type": "code",
   "execution_count": 2,
   "metadata": {
    "collapsed": true
   },
   "outputs": [],
   "source": [
    "dirname = '../isochrones/tests/star4'\n",
    "\n",
    "mod = StarModel.from_ini(dar, folder=dirname)"
   ]
  },
  {
   "cell_type": "code",
   "execution_count": 3,
   "metadata": {},
   "outputs": [
    {
     "name": "stdout",
     "output_type": "stream",
     "text": [
      "root\n",
      " ╠═ twomass H=(10.91, 0.02) @(0.00, 0 [4.00])\n",
      " ║  ╚═ twomass J=(11.25, 0.02) @(0.00, 0 [4.00])\n",
      " ║     ╚═ twomass K=(10.87, 0.01) @(0.00, 0 [4.00])\n",
      " ║        ╠═ Lick delta-H=(0.00, 0.01) @(0.00, 0 [0.50])\n",
      " ║        ║  ╚═ Lick delta-K=(0.00, 0.01) @(0.00, 0 [0.50])\n",
      " ║        ║     ╚═ 0_0, Teff=[5465.0, 109.0], feh=[0.02, 0.15], logg=[4.449, 0.085]\n",
      " ║        ╚═ Lick delta-H=(4.34, 0.01) @(3.84, 53 [0.50])\n",
      " ║           ╚═ Lick delta-K=(4.11, 0.06) @(3.84, 53 [0.50])\n",
      " ║              ╚═ 0_1\n",
      " ╚═ Lick delta-H=(7.49, 0.01) @(12.07, 256 [0.50])\n",
      "    ╚═ 0_2\n"
     ]
    }
   ],
   "source": [
    "mod.print_ascii()"
   ]
  },
  {
   "cell_type": "code",
   "execution_count": 4,
   "metadata": {},
   "outputs": [
    {
     "data": {
      "text/plain": [
       "{0: 3}"
      ]
     },
     "execution_count": 4,
     "metadata": {},
     "output_type": "execute_result"
    }
   ],
   "source": [
    "mod.obs.Nstars"
   ]
  },
  {
   "cell_type": "code",
   "execution_count": 5,
   "metadata": {},
   "outputs": [
    {
     "data": {
      "text/plain": [
       "[0]"
      ]
     },
     "execution_count": 5,
     "metadata": {},
     "output_type": "execute_result"
    }
   ],
   "source": [
    "mod.obs.systems"
   ]
  },
  {
   "cell_type": "code",
   "execution_count": 6,
   "metadata": {},
   "outputs": [
    {
     "data": {
      "text/plain": [
       "-232348.56573438906"
      ]
     },
     "execution_count": 6,
     "metadata": {},
     "output_type": "execute_result"
    }
   ],
   "source": [
    "mod.lnlike([1.0, 0.8, 0.5, 9.4, 0.0, 100, 0.2] )"
   ]
  },
  {
   "cell_type": "code",
   "execution_count": 1,
   "metadata": {},
   "outputs": [
    {
     "name": "stderr",
     "output_type": "stream",
     "text": [
      "WARNING:root:You have a wrong/corrupted/outdated Dartmouth triangulation! Delete /Users/tdm/.isochrones/dartmouth.tri and try re-importing to download afresh.\n"
     ]
    }
   ],
   "source": [
    "from isochrones.tests.test_ini import test_ini"
   ]
  },
  {
   "cell_type": "code",
   "execution_count": 2,
   "metadata": {
    "collapsed": true
   },
   "outputs": [],
   "source": [
    "test_ini()"
   ]
  },
  {
   "cell_type": "code",
   "execution_count": 4,
   "metadata": {
    "collapsed": true
   },
   "outputs": [],
   "source": [
    "from isochrones import StarModel\n",
    "mod = StarModel.from_ini('dartmouth', folder='../isochrones/tests/star2')"
   ]
  },
  {
   "cell_type": "code",
   "execution_count": 5,
   "metadata": {},
   "outputs": [
    {
     "data": {
      "text/plain": [
       "6"
      ]
     },
     "execution_count": 5,
     "metadata": {},
     "output_type": "execute_result"
    }
   ],
   "source": [
    "mod.n_params"
   ]
  },
  {
   "cell_type": "code",
   "execution_count": 2,
   "metadata": {},
   "outputs": [
    {
     "data": {
      "text/plain": [
       "'0.19.1'"
      ]
     },
     "execution_count": 2,
     "metadata": {},
     "output_type": "execute_result"
    }
   ],
   "source": [
    "import scipy\n",
    "scipy.__version__"
   ]
  },
  {
   "cell_type": "code",
   "execution_count": 8,
   "metadata": {
    "collapsed": true
   },
   "outputs": [],
   "source": [
    "import isochrones"
   ]
  },
  {
   "cell_type": "code",
   "execution_count": 1,
   "metadata": {},
   "outputs": [
    {
     "name": "stderr",
     "output_type": "stream",
     "text": [
      "WARNING:root:You have a wrong/corrupted/outdated Dartmouth triangulation! Delete /Users/tdm/.isochrones/dartmouth.tri and try re-importing to download afresh.\n"
     ]
    }
   ],
   "source": [
    "from isochrones.dartmouth import Dartmouth_Isochrone"
   ]
  },
  {
   "cell_type": "code",
   "execution_count": 6,
   "metadata": {
    "collapsed": true
   },
   "outputs": [],
   "source": [
    "dar = Dartmouth_Isochrone()"
   ]
  },
  {
   "cell_type": "code",
   "execution_count": 7,
   "metadata": {
    "collapsed": true
   },
   "outputs": [],
   "source": [
    "from isochrones.tests.tests import _basic_ic_checks"
   ]
  },
  {
   "cell_type": "code",
   "execution_count": 8,
   "metadata": {
    "collapsed": true
   },
   "outputs": [],
   "source": [
    "_basic_ic_checks(dar)"
   ]
  },
  {
   "cell_type": "code",
   "execution_count": 9,
   "metadata": {},
   "outputs": [
    {
     "data": {
      "text/plain": [
       "0.95409593462955189"
      ]
     },
     "execution_count": 9,
     "metadata": {},
     "output_type": "execute_result"
    }
   ],
   "source": [
    "dar.radius(1., 9.5, 0.0)"
   ]
  },
  {
   "cell_type": "code",
   "execution_count": 5,
   "metadata": {},
   "outputs": [
    {
     "data": {
      "text/plain": [
       "1.0435559519926865"
      ]
     },
     "execution_count": 5,
     "metadata": {},
     "output_type": "execute_result"
    }
   ],
   "source": [
    "dar.radius(1.01, 9.72, 0.02)"
   ]
  },
  {
   "cell_type": "code",
   "execution_count": 6,
   "metadata": {},
   "outputs": [
    {
     "data": {
      "text/plain": [
       "1.2762022494652547"
      ]
     },
     "execution_count": 6,
     "metadata": {},
     "output_type": "execute_result"
    }
   ],
   "source": [
    "dar.radius(1.21,9.38,0.11)"
   ]
  },
  {
   "cell_type": "code",
   "execution_count": 7,
   "metadata": {},
   "outputs": [
    {
     "data": {
      "text/plain": [
       "0.5964945760402941"
      ]
     },
     "execution_count": 7,
     "metadata": {},
     "output_type": "execute_result"
    }
   ],
   "source": [
    "dar.radius(0.61, 9.89, -0.22)"
   ]
  },
  {
   "cell_type": "code",
   "execution_count": 8,
   "metadata": {
    "collapsed": true
   },
   "outputs": [],
   "source": [
    "from isochrones.mist import MIST_Isochrone"
   ]
  },
  {
   "cell_type": "code",
   "execution_count": 9,
   "metadata": {
    "collapsed": true
   },
   "outputs": [],
   "source": [
    "mist = MIST_Isochrone()"
   ]
  },
  {
   "cell_type": "code",
   "execution_count": 10,
   "metadata": {},
   "outputs": [
    {
     "data": {
      "text/plain": [
       "0.9764494078461442"
      ]
     },
     "execution_count": 10,
     "metadata": {},
     "output_type": "execute_result"
    }
   ],
   "source": [
    "mist.radius(1.0, 9.5, 0.0)"
   ]
  },
  {
   "cell_type": "code",
   "execution_count": 16,
   "metadata": {},
   "outputs": [
    {
     "data": {
      "text/plain": [
       "1.0671791635014685"
      ]
     },
     "execution_count": 16,
     "metadata": {},
     "output_type": "execute_result"
    }
   ],
   "source": [
    "mist.radius(1.01, 9.72, 0.02)"
   ]
  },
  {
   "cell_type": "code",
   "execution_count": 18,
   "metadata": {},
   "outputs": [
    {
     "data": {
      "text/plain": [
       "1.2836469028034225"
      ]
     },
     "execution_count": 18,
     "metadata": {},
     "output_type": "execute_result"
    }
   ],
   "source": [
    "mist.radius(1.21,9.38,0.11)"
   ]
  },
  {
   "cell_type": "code",
   "execution_count": 19,
   "metadata": {},
   "outputs": [
    {
     "data": {
      "text/plain": [
       "0.59475269177846402"
      ]
     },
     "execution_count": 19,
     "metadata": {},
     "output_type": "execute_result"
    }
   ],
   "source": [
    "mist.radius(0.61, 9.89, -0.22)"
   ]
  },
  {
   "cell_type": "code",
   "execution_count": null,
   "metadata": {
    "collapsed": true
   },
   "outputs": [],
   "source": [
    "dar.radius(1., 9.5, 0.0)"
   ]
  },
  {
   "cell_type": "code",
   "execution_count": 1,
   "metadata": {},
   "outputs": [
    {
     "name": "stderr",
     "output_type": "stream",
     "text": [
      "WARNING:root:You have a wrong/corrupted/outdated Dartmouth triangulation! Delete /Users/tdm/.isochrones/dartmouth.tri and try re-importing to download afresh.\n"
     ]
    }
   ],
   "source": [
    "import isochrones.dartmouth"
   ]
  },
  {
   "cell_type": "code",
   "execution_count": 2,
   "metadata": {
    "collapsed": true
   },
   "outputs": [],
   "source": [
    "from isochrones.dartmouth import DartmouthModelGrid"
   ]
  },
  {
   "cell_type": "code",
   "execution_count": 3,
   "metadata": {},
   "outputs": [
    {
     "name": "stdout",
     "output_type": "stream",
     "text": [
      "782 ms ± 13.7 ms per loop (mean ± std. dev. of 7 runs, 1 loop each)\n"
     ]
    }
   ],
   "source": [
    "%timeit DartmouthModelGrid.verify_grids()"
   ]
  },
  {
   "cell_type": "code",
   "execution_count": 5,
   "metadata": {
    "collapsed": true
   },
   "outputs": [],
   "source": [
    "from isochrones.mist import MISTModelGrid"
   ]
  },
  {
   "cell_type": "code",
   "execution_count": 6,
   "metadata": {},
   "outputs": [
    {
     "name": "stdout",
     "output_type": "stream",
     "text": [
      "3.01 s ± 54.2 ms per loop (mean ± std. dev. of 7 runs, 1 loop each)\n"
     ]
    }
   ],
   "source": [
    "%timeit MISTModelGrid.verify_grids()"
   ]
  },
  {
   "cell_type": "code",
   "execution_count": 1,
   "metadata": {
    "collapsed": true
   },
   "outputs": [],
   "source": [
    "import isochrones"
   ]
  },
  {
   "cell_type": "code",
   "execution_count": 1,
   "metadata": {
    "collapsed": true
   },
   "outputs": [],
   "source": [
    "import isochrones"
   ]
  },
  {
   "cell_type": "code",
   "execution_count": 1,
   "metadata": {
    "collapsed": true
   },
   "outputs": [],
   "source": [
    "from isochrones.dartmouth import Dartmouth_Isochrone"
   ]
  },
  {
   "cell_type": "code",
   "execution_count": 2,
   "metadata": {},
   "outputs": [
    {
     "ename": "RuntimeError",
     "evalue": "/Users/tdm/.isochrones/dartmouth.tri does not exist.  Run \"import isochrones.dartmouth; isochrones.dartmouth.download_grids()\" to download.",
     "output_type": "error",
     "traceback": [
      "\u001b[0;31m---------------------------------------------------------------------------\u001b[0m",
      "\u001b[0;31mRuntimeError\u001b[0m                              Traceback (most recent call last)",
      "\u001b[0;32m<ipython-input-2-643606627c59>\u001b[0m in \u001b[0;36m<module>\u001b[0;34m()\u001b[0m\n\u001b[0;32m----> 1\u001b[0;31m \u001b[0mdar\u001b[0m \u001b[0;34m=\u001b[0m \u001b[0mDartmouth_Isochrone\u001b[0m\u001b[0;34m(\u001b[0m\u001b[0;34m)\u001b[0m\u001b[0;34m\u001b[0m\u001b[0m\n\u001b[0m",
      "\u001b[0;32m~/repositories/isochrones/isochrones/dartmouth/isochrone.py\u001b[0m in \u001b[0;36m__init__\u001b[0;34m(self, bands, afe, y, **kwargs)\u001b[0m\n\u001b[1;32m     72\u001b[0m \u001b[0;34m\u001b[0m\u001b[0m\n\u001b[1;32m     73\u001b[0m         \u001b[0;32mif\u001b[0m \u001b[0mTRI\u001b[0m \u001b[0;32mis\u001b[0m \u001b[0;32mNone\u001b[0m\u001b[0;34m:\u001b[0m\u001b[0;34m\u001b[0m\u001b[0m\n\u001b[0;32m---> 74\u001b[0;31m             \u001b[0mDartmouthModelGrid\u001b[0m\u001b[0;34m.\u001b[0m\u001b[0mverify_grids\u001b[0m\u001b[0;34m(\u001b[0m\u001b[0;34m)\u001b[0m\u001b[0;34m\u001b[0m\u001b[0m\n\u001b[0m\u001b[1;32m     75\u001b[0m             \u001b[0;32mtry\u001b[0m\u001b[0;34m:\u001b[0m\u001b[0;34m\u001b[0m\u001b[0m\n\u001b[1;32m     76\u001b[0m                 \u001b[0mf\u001b[0m \u001b[0;34m=\u001b[0m \u001b[0mopen\u001b[0m\u001b[0;34m(\u001b[0m\u001b[0mTRI_FILE\u001b[0m\u001b[0;34m,\u001b[0m\u001b[0;34m'rb'\u001b[0m\u001b[0;34m)\u001b[0m\u001b[0;34m\u001b[0m\u001b[0m\n",
      "\u001b[0;32m~/repositories/isochrones/isochrones/grid.py\u001b[0m in \u001b[0;36mverify_grids\u001b[0;34m(cls)\u001b[0m\n\u001b[1;32m    144\u001b[0m         \u001b[0;32mfor\u001b[0m \u001b[0mf\u001b[0m\u001b[0;34m,\u001b[0m \u001b[0mmd5\u001b[0m \u001b[0;32min\u001b[0m \u001b[0mzip\u001b[0m\u001b[0;34m(\u001b[0m\u001b[0mfiles\u001b[0m\u001b[0;34m,\u001b[0m \u001b[0mcls\u001b[0m\u001b[0;34m.\u001b[0m\u001b[0mzenodo_md5\u001b[0m\u001b[0;34m)\u001b[0m\u001b[0;34m:\u001b[0m\u001b[0;34m\u001b[0m\u001b[0m\n\u001b[1;32m    145\u001b[0m             \u001b[0;32mif\u001b[0m \u001b[0;32mnot\u001b[0m \u001b[0mos\u001b[0m\u001b[0;34m.\u001b[0m\u001b[0mpath\u001b[0m\u001b[0;34m.\u001b[0m\u001b[0mexists\u001b[0m\u001b[0;34m(\u001b[0m\u001b[0mf\u001b[0m\u001b[0;34m)\u001b[0m\u001b[0;34m:\u001b[0m\u001b[0;34m\u001b[0m\u001b[0m\n\u001b[0;32m--> 146\u001b[0;31m                 \u001b[0;32mraise\u001b[0m \u001b[0mRuntimeError\u001b[0m\u001b[0;34m(\u001b[0m\u001b[0;34m'{0} does not exist.  Run \"import isochrones.{1}; isochrones.{1}.download_grids()\" to download.'\u001b[0m\u001b[0;34m.\u001b[0m\u001b[0mformat\u001b[0m\u001b[0;34m(\u001b[0m\u001b[0mf\u001b[0m\u001b[0;34m,\u001b[0m \u001b[0mcls\u001b[0m\u001b[0;34m.\u001b[0m\u001b[0mname\u001b[0m\u001b[0;34m)\u001b[0m\u001b[0;34m)\u001b[0m\u001b[0;34m\u001b[0m\u001b[0m\n\u001b[0m\u001b[1;32m    147\u001b[0m             \u001b[0;32melif\u001b[0m \u001b[0mhashlib\u001b[0m\u001b[0;34m.\u001b[0m\u001b[0mmd5\u001b[0m\u001b[0;34m(\u001b[0m\u001b[0mopen\u001b[0m\u001b[0;34m(\u001b[0m\u001b[0mf\u001b[0m\u001b[0;34m,\u001b[0m\u001b[0;34m'rb'\u001b[0m\u001b[0;34m)\u001b[0m\u001b[0;34m.\u001b[0m\u001b[0mread\u001b[0m\u001b[0;34m(\u001b[0m\u001b[0;34m)\u001b[0m\u001b[0;34m)\u001b[0m\u001b[0;34m.\u001b[0m\u001b[0mhexdigest\u001b[0m\u001b[0;34m(\u001b[0m\u001b[0;34m)\u001b[0m \u001b[0;34m!=\u001b[0m \u001b[0mmd5\u001b[0m\u001b[0;34m:\u001b[0m\u001b[0;34m\u001b[0m\u001b[0m\n\u001b[1;32m    148\u001b[0m                 \u001b[0;32mraise\u001b[0m \u001b[0mRuntimeError\u001b[0m\u001b[0;34m(\u001b[0m\u001b[0;34m'{0} is wrong/corrupted.  Delete {0} and try again.'\u001b[0m\u001b[0;34m.\u001b[0m\u001b[0mformat\u001b[0m\u001b[0;34m(\u001b[0m\u001b[0mf\u001b[0m\u001b[0;34m)\u001b[0m\u001b[0;34m)\u001b[0m\u001b[0;34m\u001b[0m\u001b[0m\n",
      "\u001b[0;31mRuntimeError\u001b[0m: /Users/tdm/.isochrones/dartmouth.tri does not exist.  Run \"import isochrones.dartmouth; isochrones.dartmouth.download_grids()\" to download."
     ]
    }
   ],
   "source": [
    "dar = Dartmouth_Isochrone()"
   ]
  },
  {
   "cell_type": "code",
   "execution_count": 3,
   "metadata": {},
   "outputs": [
    {
     "name": "stdout",
     "output_type": "stream",
     "text": [
      "Downloading files for dartmouth model grid: ('dartmouth.tgz', 'dartmouth.tri')...\n",
      "/Users/tdm/.isochrones/dartmouth.tgz exists; not downloading.\n"
     ]
    }
   ],
   "source": [
    "import isochrones.dartmouth; isochrones.dartmouth.download_grids()"
   ]
  },
  {
   "cell_type": "code",
   "execution_count": 4,
   "metadata": {
    "collapsed": true
   },
   "outputs": [],
   "source": [
    "dar = Dartmouth_Isochrone()"
   ]
  },
  {
   "cell_type": "code",
   "execution_count": 6,
   "metadata": {
    "collapsed": true
   },
   "outputs": [],
   "source": [
    "dar = Dartmouth_Isochrone()"
   ]
  },
  {
   "cell_type": "code",
   "execution_count": 3,
   "metadata": {},
   "outputs": [
    {
     "ename": "NameError",
     "evalue": "name 'isochrones' is not defined",
     "output_type": "error",
     "traceback": [
      "\u001b[0;31m---------------------------------------------------------------------------\u001b[0m",
      "\u001b[0;31mNameError\u001b[0m                                 Traceback (most recent call last)",
      "\u001b[0;32m<ipython-input-3-4cf3ff8ea033>\u001b[0m in \u001b[0;36m<module>\u001b[0;34m()\u001b[0m\n\u001b[0;32m----> 1\u001b[0;31m \u001b[0misochrones\u001b[0m\u001b[0;34m.\u001b[0m\u001b[0mdartmouth\u001b[0m\u001b[0;34m.\u001b[0m\u001b[0mdownload_grids\u001b[0m\u001b[0;34m(\u001b[0m\u001b[0;34m)\u001b[0m\u001b[0;34m\u001b[0m\u001b[0m\n\u001b[0m",
      "\u001b[0;31mNameError\u001b[0m: name 'isochrones' is not defined"
     ]
    }
   ],
   "source": [
    "isochrones.dartmouth.download_grids()"
   ]
  },
  {
   "cell_type": "code",
   "execution_count": 3,
   "metadata": {
    "collapsed": true
   },
   "outputs": [],
   "source": [
    "from isochrones.mist import MIST_Isochrone"
   ]
  },
  {
   "cell_type": "code",
   "execution_count": 4,
   "metadata": {
    "collapsed": true
   },
   "outputs": [],
   "source": [
    "mist = MIST_Isochrone()"
   ]
  },
  {
   "cell_type": "code",
   "execution_count": 5,
   "metadata": {},
   "outputs": [
    {
     "name": "stdout",
     "output_type": "stream",
     "text": [
      "Downloading files for mist model grid (('mist.tgz',))...\n",
      "/Users/tdm/.isochrones/mist.tgz verified.\n",
      "/Users/tdm/.isochrones/mist.tgz verified.\n",
      "/Users/tdm/.isochrones/mist/MIST_v1.0_UBVRIplus.h5 written.\n",
      "/Users/tdm/.isochrones/mist/MIST_v1.0_WISE.h5 written.\n",
      "/Users/tdm/.isochrones/mist/MIST_v1.0_SDSS.h5 written.\n"
     ]
    },
    {
     "data": {
      "text/plain": [
       "1.0021006303717472"
      ]
     },
     "execution_count": 5,
     "metadata": {},
     "output_type": "execute_result"
    }
   ],
   "source": [
    "mist.radius(1.0, 9.6, 0.0)"
   ]
  },
  {
   "cell_type": "code",
   "execution_count": 7,
   "metadata": {
    "collapsed": true
   },
   "outputs": [],
   "source": [
    "import numpy as np"
   ]
  },
  {
   "cell_type": "code",
   "execution_count": 14,
   "metadata": {
    "collapsed": true
   },
   "outputs": [],
   "source": [
    "d = np.array([np.random.randn(100000) for i in range(4)]).T"
   ]
  },
  {
   "cell_type": "code",
   "execution_count": 15,
   "metadata": {},
   "outputs": [
    {
     "data": {
      "text/plain": [
       "(100000, 4)"
      ]
     },
     "execution_count": 15,
     "metadata": {},
     "output_type": "execute_result"
    }
   ],
   "source": [
    "d.shape"
   ]
  },
  {
   "cell_type": "code",
   "execution_count": 16,
   "metadata": {},
   "outputs": [
    {
     "data": {
      "text/plain": [
       "array([[ -1.63828045e+00,  -1.63072826e+00,  -1.65102411e+00,\n",
       "         -1.64924447e+00],\n",
       "       [ -9.90019779e-01,  -9.95726924e-01,  -9.96526431e-01,\n",
       "         -9.93260577e-01],\n",
       "       [ -8.87989356e-04,  -3.18889167e-03,   3.42285565e-03,\n",
       "          3.96761411e-03],\n",
       "       [  9.90394774e-01,   9.96530306e-01,   9.96822674e-01,\n",
       "          9.96571747e-01],\n",
       "       [  1.64419496e+00,   1.65023073e+00,   1.64854022e+00,\n",
       "          1.64616768e+00]])"
      ]
     },
     "execution_count": 16,
     "metadata": {},
     "output_type": "execute_result"
    }
   ],
   "source": [
    "np.percentile(d, [5,16,50,84,95], axis=0)"
   ]
  },
  {
   "cell_type": "code",
   "execution_count": 1,
   "metadata": {},
   "outputs": [],
   "source": [
    "from isochrones import StarModel\n",
    "from isochrones.dartmouth import Dartmouth_Isochrone\n",
    "\n",
    "dar = Dartmouth_Isochrone()\n",
    "\n",
    "props = dict(Teff=(5800, 100), logg=(4.5, 0.1),\n",
    "             B=(5.7,0.05), V=(5.0, 0.05))\n",
    "\n",
    "mod = StarModel(dar, **props)"
   ]
  },
  {
   "cell_type": "code",
   "execution_count": 2,
   "metadata": {},
   "outputs": [
    {
     "data": {
      "text/plain": [
       "'single'"
      ]
     },
     "execution_count": 2,
     "metadata": {},
     "output_type": "execute_result"
    }
   ],
   "source": [
    "mod.name"
   ]
  },
  {
   "cell_type": "code",
   "execution_count": 3,
   "metadata": {
    "collapsed": true
   },
   "outputs": [],
   "source": [
    "samples = mod.emcee_p0(200)"
   ]
  },
  {
   "cell_type": "code",
   "execution_count": 4,
   "metadata": {},
   "outputs": [
    {
     "data": {
      "text/plain": [
       "(200, 5)"
      ]
     },
     "execution_count": 4,
     "metadata": {},
     "output_type": "execute_result"
    }
   ],
   "source": [
    "samples.shape"
   ]
  },
  {
   "cell_type": "code",
   "execution_count": 7,
   "metadata": {},
   "outputs": [
    {
     "data": {
      "text/plain": [
       "numpy.ndarray"
      ]
     },
     "execution_count": 7,
     "metadata": {},
     "output_type": "execute_result"
    }
   ],
   "source": [
    "type(samples)"
   ]
  },
  {
   "cell_type": "code",
   "execution_count": 10,
   "metadata": {},
   "outputs": [
    {
     "data": {
      "text/plain": [
       "array([  3.21385964e+00,   1.01745308e+01,   4.96039106e-01,\n",
       "         2.97472721e+03,   9.98552464e-01])"
      ]
     },
     "execution_count": 10,
     "metadata": {},
     "output_type": "execute_result"
    }
   ],
   "source": [
    "samples.max(axis=0)"
   ]
  },
  {
   "cell_type": "code",
   "execution_count": 1,
   "metadata": {
    "collapsed": true
   },
   "outputs": [],
   "source": [
    "%matplotlib inline\n",
    "import os\n",
    "import emcee3\n",
    "from emcee3.backends import Backend, HDFBackend\n",
    "import matplotlib.pyplot as plt\n",
    "\n",
    "def trace_plot(star, directory='mcmc_chains', thin=10):\n",
    "    filename = os.path.join(directory, '{}.h5'.format(star))\n",
    "\n",
    "    b = HDFBackend(filename)\n",
    "    coords = b.get_coords()\n",
    "    ndim = coords.shape[-1]\n",
    "    fig, axes = plt.subplots(ndim, 1, sharex=True, figsize=(8,8))\n",
    "    for i,ax in enumerate(axes):\n",
    "        ax.plot(coords[::thin, :, i], lw=1, alpha=0.2);\n",
    "            \n",
    "    axes[0].set_title(star)\n",
    "    return fig    "
   ]
  },
  {
   "cell_type": "code",
   "execution_count": 10,
   "metadata": {},
   "outputs": [
    {
     "data": {
      "image/png": "[encoded data removed]",
      "text/plain": [
       "<matplotlib.figure.Figure at 0x10f5a24e0>"
      ]
     },
     "metadata": {},
     "output_type": "display_data"
    }
   ],
   "source": [
    "trace_plot('test_sun');"
   ]
  },
  {
   "cell_type": "code",
   "execution_count": 1,
   "metadata": {
    "collapsed": true
   },
   "outputs": [],
   "source": [
    "from isochrones import StarModel\n",
    "from isochrones.dartmouth import Dartmouth_Isochrone"
   ]
  },
  {
   "cell_type": "code",
   "execution_count": 2,
   "metadata": {},
   "outputs": [
    {
     "name": "stderr",
     "output_type": "stream",
     "text": [
      "WARNING:root:minage and maxage keywords are deprecated.Use instead the .set_bounds(age=(lo, hi)) attribute of StarModel.\n"
     ]
    }
   ],
   "source": [
    "dar = Dartmouth_Isochrone(minage=9.1)\n",
    "\n",
    "props = dict(Teff=(5800, 100), logg=(4.5, 0.1),\n",
    "             B=(5.7,0.05), V=(5.0, 0.05))\n"
   ]
  },
  {
   "cell_type": "code",
   "execution_count": 3,
   "metadata": {
    "collapsed": true
   },
   "outputs": [],
   "source": [
    "mod = StarModel(dar, **props)"
   ]
  },
  {
   "cell_type": "code",
   "execution_count": 4,
   "metadata": {},
   "outputs": [
    {
     "data": {
      "text/plain": [
       "(8.3979400086720375, 10.176091259055681)"
      ]
     },
     "execution_count": 4,
     "metadata": {},
     "output_type": "execute_result"
    }
   ],
   "source": [
    "mod.bounds('age')"
   ]
  },
  {
   "cell_type": "code",
   "execution_count": 5,
   "metadata": {},
   "outputs": [
    {
     "data": {
      "text/plain": [
       "0.15610746393179967"
      ]
     },
     "execution_count": 5,
     "metadata": {},
     "output_type": "execute_result"
    }
   ],
   "source": [
    "mod.prior('age', 9.0, bounds=mod.bounds('age'))"
   ]
  },
  {
   "cell_type": "code",
   "execution_count": 6,
   "metadata": {
    "collapsed": true
   },
   "outputs": [],
   "source": [
    "from isochrones.priors import age_prior"
   ]
  },
  {
   "cell_type": "code",
   "execution_count": 7,
   "metadata": {
    "collapsed": true
   },
   "outputs": [],
   "source": [
    "from scipy.stats import uniform"
   ]
  },
  {
   "cell_type": "code",
   "execution_count": 8,
   "metadata": {},
   "outputs": [
    {
     "data": {
      "text/plain": [
       "scipy.stats._continuous_distns.uniform_gen"
      ]
     },
     "execution_count": 8,
     "metadata": {},
     "output_type": "execute_result"
    }
   ],
   "source": [
    "type(uniform)"
   ]
  },
  {
   "cell_type": "code",
   "execution_count": 9,
   "metadata": {
    "collapsed": true
   },
   "outputs": [],
   "source": [
    "d = uniform(3, 6)"
   ]
  },
  {
   "cell_type": "code",
   "execution_count": 12,
   "metadata": {},
   "outputs": [
    {
     "data": {
      "text/plain": [
       "0.0"
      ]
     },
     "execution_count": 12,
     "metadata": {},
     "output_type": "execute_result"
    }
   ],
   "source": [
    "d.pdf(2)"
   ]
  },
  {
   "cell_type": "code",
   "execution_count": 13,
   "metadata": {
    "collapsed": true
   },
   "outputs": [],
   "source": [
    "uniform?"
   ]
  },
  {
   "cell_type": "code",
   "execution_count": 2,
   "metadata": {
    "collapsed": true
   },
   "outputs": [],
   "source": [
    "from isochrones.priors import AV_prior"
   ]
  },
  {
   "cell_type": "code",
   "execution_count": 6,
   "metadata": {},
   "outputs": [
    {
     "data": {
      "text/plain": [
       "array([ 0.51299349,  0.04524675,  0.3940439 ,  0.35215637,  0.43375303,\n",
       "        0.9366318 ,  0.92845353,  0.07610549,  0.3986907 ,  0.11514545])"
      ]
     },
     "execution_count": 6,
     "metadata": {},
     "output_type": "execute_result"
    }
   ],
   "source": [
    "AV_prior._distribution.rvs(10)"
   ]
  },
  {
   "cell_type": "code",
   "execution_count": 2,
   "metadata": {
    "collapsed": true
   },
   "outputs": [],
   "source": [
    "from scipy.stats import powerlaw"
   ]
  },
  {
   "cell_type": "code",
   "execution_count": 1,
   "metadata": {
    "collapsed": true
   },
   "outputs": [],
   "source": [
    "from isochrones.priors import distance_prior"
   ]
  },
  {
   "cell_type": "code",
   "execution_count": 2,
   "metadata": {},
   "outputs": [
    {
     "data": {
      "text/plain": [
       "array([ 2493.79176056,  2244.43780145,  2038.62230875,  2734.7536418 ,\n",
       "        2922.87866723,  2891.70752346,  2393.58184595,  2782.12917959,\n",
       "        2964.78382157,  2464.10865769])"
      ]
     },
     "execution_count": 2,
     "metadata": {},
     "output_type": "execute_result"
    }
   ],
   "source": [
    "distance_prior.sample(10)"
   ]
  },
  {
   "cell_type": "code",
   "execution_count": 10,
   "metadata": {},
   "outputs": [
    {
     "data": {
      "text/plain": [
       "(0, 3000)"
      ]
     },
     "execution_count": 10,
     "metadata": {},
     "output_type": "execute_result"
    }
   ],
   "source": [
    "distance_prior.bounds"
   ]
  },
  {
   "cell_type": "code",
   "execution_count": 21,
   "metadata": {},
   "outputs": [
    {
     "data": {
      "text/plain": [
       "[<matplotlib.lines.Line2D at 0x11e9f2fd0>]"
      ]
     },
     "execution_count": 21,
     "metadata": {},
     "output_type": "execute_result"
    },
    {
     "data": {
      "image/png": "[encoded data removed]",
      "text/plain": [
       "<matplotlib.figure.Figure at 0x11e9f2390>"
      ]
     },
     "metadata": {},
     "output_type": "display_data"
    }
   ],
   "source": [
    "%matplotlib inline\n",
    "import matplotlib.pyplot as plt\n",
    "import numpy as np\n",
    "\n",
    "h, b, _ = plt.hist(distance_prior.sample(100000), normed=True);\n",
    "plt.plot(b, [distance_prior(x, bounds=(0,3000)) for x in b], 'k')"
   ]
  },
  {
   "cell_type": "code",
   "execution_count": 22,
   "metadata": {},
   "outputs": [
    {
     "data": {
      "text/plain": [
       "array([  5.42656575e-06,   2.97607882e-05,   7.19446578e-05,\n",
       "         1.33513995e-04,   2.14298153e-04,   3.17505290e-04,\n",
       "         4.33681578e-04,   5.72724527e-04,   7.22996030e-04,\n",
       "         9.11082846e-04])"
      ]
     },
     "execution_count": 22,
     "metadata": {},
     "output_type": "execute_result"
    }
   ],
   "source": [
    "h"
   ]
  },
  {
   "cell_type": "code",
   "execution_count": 24,
   "metadata": {},
   "outputs": [
    {
     "data": {
      "text/plain": [
       "array([   69.95556691,   362.95855898,   655.96155105,   948.96454312,\n",
       "        1241.96753519,  1534.97052726,  1827.97351933,  2120.9765114 ,\n",
       "        2413.97950347,  2706.98249554,  2999.98548761])"
      ]
     },
     "execution_count": 24,
     "metadata": {},
     "output_type": "execute_result"
    }
   ],
   "source": [
    "b"
   ]
  },
  {
   "cell_type": "code",
   "execution_count": 27,
   "metadata": {
    "collapsed": true
   },
   "outputs": [],
   "source": [
    "c = (b[1:] + b[:-1])/2"
   ]
  },
  {
   "cell_type": "code",
   "execution_count": 28,
   "metadata": {},
   "outputs": [
    {
     "data": {
      "text/plain": [
       "[5.2059622333904537e-06,\n",
       " 2.8838838628779319e-05,\n",
       " 7.1549660215594382e-05,\n",
       " 0.00013333842699383557,\n",
       " 0.000214205138963503,\n",
       " 0.00031414979612459654,\n",
       " 0.00043317239847711633,\n",
       " 0.00057127294602106232,\n",
       " 0.00072845143875643426,\n",
       " 0.00090470787668323288]"
      ]
     },
     "execution_count": 28,
     "metadata": {},
     "output_type": "execute_result"
    }
   ],
   "source": [
    "[distance_prior(x, bounds=(0,3000)) for x in c]"
   ]
  },
  {
   "cell_type": "code",
   "execution_count": 49,
   "metadata": {
    "collapsed": true
   },
   "outputs": [],
   "source": [
    "h1, b = np.histogram(distance_prior.sample(100000))\n",
    "h,b = np.histogram(distance_prior.sample(100000), density=True)\n",
    "c = (b[1:] + b[:-1])/2"
   ]
  },
  {
   "cell_type": "code",
   "execution_count": 50,
   "metadata": {},
   "outputs": [],
   "source": [
    "pdf = [distance_prior(x, bounds=(0,3000)) for x in c]"
   ]
  },
  {
   "cell_type": "code",
   "execution_count": 51,
   "metadata": {},
   "outputs": [
    {
     "data": {
      "text/plain": [
       "array([ 0.08137885,  0.035007  ,  0.02200062,  0.01594752,  0.01269489,\n",
       "        0.0104967 ,  0.0088454 ,  0.00771884,  0.00682201,  0.00611967])"
      ]
     },
     "execution_count": 51,
     "metadata": {},
     "output_type": "execute_result"
    }
   ],
   "source": [
    "1./np.sqrt(h1)"
   ]
  },
  {
   "cell_type": "code",
   "execution_count": 53,
   "metadata": {},
   "outputs": [],
   "source": [
    "resid = np.abs(pdf - h)/pdf"
   ]
  },
  {
   "cell_type": "code",
   "execution_count": 54,
   "metadata": {},
   "outputs": [
    {
     "data": {
      "text/plain": [
       "array([ 0.1135809 ,  0.02592938,  0.04177793,  0.00522302,  0.00851507,\n",
       "        0.0010505 ,  0.00066287,  0.00515454,  0.00666403,  0.00457766])"
      ]
     },
     "execution_count": 54,
     "metadata": {},
     "output_type": "execute_result"
    }
   ],
   "source": [
    "resid"
   ]
  },
  {
   "cell_type": "code",
   "execution_count": 55,
   "metadata": {
    "collapsed": true
   },
   "outputs": [],
   "source": [
    "sigma = 1./np.sqrt(h1)"
   ]
  },
  {
   "cell_type": "code",
   "execution_count": 56,
   "metadata": {},
   "outputs": [
    {
     "data": {
      "text/plain": [
       "array([ 1.39570551,  0.74069128,  1.89894356,  0.32751274,  0.67074751,\n",
       "        0.10007862,  0.07493934,  0.66778639,  0.97684366,  0.74802365])"
      ]
     },
     "execution_count": 56,
     "metadata": {},
     "output_type": "execute_result"
    }
   ],
   "source": [
    "resid/sigma"
   ]
  },
  {
   "cell_type": "code",
   "execution_count": 29,
   "metadata": {},
   "outputs": [
    {
     "data": {
      "text/plain": [
       "(10, 10)"
      ]
     },
     "execution_count": 29,
     "metadata": {},
     "output_type": "execute_result"
    }
   ],
   "source": [
    "len(c), len(h)"
   ]
  },
  {
   "cell_type": "code",
   "execution_count": 31,
   "metadata": {},
   "outputs": [
    {
     "data": {
      "text/plain": [
       "array([   1627.96972356,    8928.23647133,   21583.39734124,\n",
       "         40054.19848148,   64289.44587556,   95251.58703302,\n",
       "        130104.47344175,  171817.35805666,  216898.8089549 ,\n",
       "        273324.85390158])"
      ]
     },
     "execution_count": 31,
     "metadata": {},
     "output_type": "execute_result"
    }
   ],
   "source": []
  },
  {
   "cell_type": "code",
   "execution_count": 1,
   "metadata": {
    "collapsed": true
   },
   "outputs": [],
   "source": [
    "from isochrones.priors import salpeter_prior, q_prior, age_prior, distance_prior"
   ]
  },
  {
   "cell_type": "code",
   "execution_count": 4,
   "metadata": {},
   "outputs": [
    {
     "data": {
      "text/plain": [
       "(array([0, 0, 0, 0, 0, 0, 0, 0, 0, 0]),\n",
       " array([  9.   ,   9.115,   9.23 ,   9.345,   9.46 ,   9.575,   9.69 ,\n",
       "          9.805,   9.92 ,  10.035,  10.15 ]))"
      ]
     },
     "execution_count": 4,
     "metadata": {},
     "output_type": "execute_result"
    }
   ],
   "source": [
    "import numpy as np\n",
    "np.histogram(age_prior.sample(100), range=(9,10.15))"
   ]
  },
  {
   "cell_type": "code",
   "execution_count": 5,
   "metadata": {},
   "outputs": [
    {
     "data": {
      "text/plain": [
       "array([  5.76603014e+09,   1.41086431e+10,   7.94351457e+09,\n",
       "         1.27408878e+10,   1.10371106e+10,   2.69580849e+09,\n",
       "         6.11247811e+09,   1.29721656e+10,   8.66101798e+09,\n",
       "         1.59534690e+09,   3.98162526e+09,   1.22230816e+09,\n",
       "         1.96614395e+09,   1.14279660e+10,   2.62940801e+09,\n",
       "         9.05939742e+09,   7.62076207e+09,   1.23113269e+10,\n",
       "         1.23985446e+10,   1.11973033e+09,   6.36853785e+09,\n",
       "         7.82397418e+09,   1.38097978e+09,   8.44312443e+09,\n",
       "         1.18797256e+10,   9.68425303e+09,   1.43228885e+09,\n",
       "         2.36023915e+09,   1.44174421e+09,   1.11486899e+10,\n",
       "         3.80644386e+09,   6.36478747e+09,   3.56029212e+09,\n",
       "         1.16111006e+10,   1.29505138e+10,   4.82583592e+09,\n",
       "         2.35306225e+09,   1.13157425e+10,   2.22386664e+09,\n",
       "         1.18510330e+10,   1.55973161e+09,   5.58396415e+09,\n",
       "         9.31387684e+09,   5.19813154e+09,   5.60572952e+09,\n",
       "         9.95476958e+09,   5.00001775e+09,   5.94196448e+09,\n",
       "         6.22058016e+09,   7.55321586e+09,   1.65365693e+09,\n",
       "         3.49641675e+09,   1.45906742e+09,   4.86963855e+09,\n",
       "         1.29588556e+10,   4.53125682e+09,   4.49155950e+09,\n",
       "         2.38766572e+09,   1.35785337e+10,   1.27249425e+10,\n",
       "         7.06561430e+09,   3.74531415e+09,   1.05095927e+10,\n",
       "         4.36351224e+09,   1.38268634e+10,   1.16211514e+10,\n",
       "         1.13885361e+10,   7.94259765e+09,   5.93174035e+09,\n",
       "         2.06782020e+09,   1.18538097e+10,   9.83586798e+09,\n",
       "         7.48428044e+09,   4.26794663e+09,   1.14817213e+09,\n",
       "         5.47210836e+09,   8.83642120e+09,   5.52590564e+09,\n",
       "         2.16418477e+09,   1.38756138e+10,   1.19829203e+09,\n",
       "         6.43001264e+09,   6.84273063e+09,   1.08864478e+10,\n",
       "         6.88792803e+09,   1.26848076e+10,   8.89480360e+09,\n",
       "         8.25259737e+09,   1.04606526e+10,   1.02485196e+10,\n",
       "         4.99506674e+09,   6.95611080e+09,   1.86487230e+09,\n",
       "         7.37366979e+09,   6.54729828e+09,   7.12738694e+09,\n",
       "         1.29338549e+10,   6.57203578e+09,   5.65110103e+09,\n",
       "         1.10403563e+09])"
      ]
     },
     "execution_count": 5,
     "metadata": {},
     "output_type": "execute_result"
    }
   ],
   "source": [
    "age_prior.sample(100)"
   ]
  },
  {
   "cell_type": "code",
   "execution_count": 2,
   "metadata": {},
   "outputs": [
    {
     "name": "stderr",
     "output_type": "stream",
     "text": [
      "/Users/tdm/miniconda3/envs/isochrones/lib/python3.6/site-packages/numpy/lib/function_base.py:817: RuntimeWarning: invalid value encountered in true_divide\n",
      "  return n/db/n.sum(), bins\n",
      "/Users/tdm/repositories/isochrones/isochrones/priors.py:36: RuntimeWarning: divide by zero encountered in true_divide\n",
      "  sigma = 1./np.sqrt(hn)\n"
     ]
    },
    {
     "name": "stdout",
     "output_type": "stream",
     "text": [
      "[0 0 0 0 0 0 0 0 0 0] [  9.      9.115   9.23    9.345   9.46    9.575   9.69    9.805   9.92\n",
      "  10.035  10.15 ]\n"
     ]
    },
    {
     "data": {
      "image/png": "[encoded data removed]",
      "text/plain": [
       "<matplotlib.figure.Figure at 0x1203cd5c0>"
      ]
     },
     "metadata": {},
     "output_type": "display_data"
    }
   ],
   "source": [
    "%matplotlib inline\n",
    "age_prior.test_sampling(plot=True)"
   ]
  },
  {
   "cell_type": "code",
   "execution_count": 7,
   "metadata": {},
   "outputs": [
    {
     "data": {
      "text/plain": [
       "array([ 2120.47998504,  2180.35681688,  2073.15160746, ...,  1738.41056862,\n",
       "        2654.34308229,  1826.4959339 ])"
      ]
     },
     "execution_count": 7,
     "metadata": {},
     "output_type": "execute_result"
    }
   ],
   "source": [
    "distance_prior.sample(10000)"
   ]
  },
  {
   "cell_type": "code",
   "execution_count": 3,
   "metadata": {
    "collapsed": true
   },
   "outputs": [],
   "source": [
    "import numpy as np\n",
    "np.histogram?"
   ]
  },
  {
   "cell_type": "code",
   "execution_count": null,
   "metadata": {
    "collapsed": true
   },
   "outputs": [],
   "source": [
    "from scipy.integrate import quad"
   ]
  },
  {
   "cell_type": "code",
   "execution_count": 59,
   "metadata": {},
   "outputs": [
    {
     "data": {
      "image/png": "[encoded data removed]",
      "text/plain": [
       "<matplotlib.figure.Figure at 0x11e898cf8>"
      ]
     },
     "metadata": {},
     "output_type": "display_data"
    }
   ],
   "source": [
    "plt.hist(salpeter_prior.sample(100000));\n",
    "plt.plot()"
   ]
  },
  {
   "cell_type": "code",
   "execution_count": null,
   "metadata": {
    "collapsed": true
   },
   "outputs": [],
   "source": []
  }
 ],
 "metadata": {
  "kernelspec": {
   "display_name": "Python 3",
   "language": "python",
   "name": "python3"
  },
  "language_info": {
   "codemirror_mode": {
    "name": "ipython",
    "version": 3
   },
   "file_extension": ".py",
   "mimetype": "text/x-python",
   "name": "python",
   "nbconvert_exporter": "python",
   "pygments_lexer": "ipython3",
   "version": "3.6.2"
  }
 },
 "nbformat": 4,
 "nbformat_minor": 1
}
